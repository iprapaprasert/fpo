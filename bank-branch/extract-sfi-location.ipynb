{
 "cells": [
  {
   "cell_type": "code",
   "execution_count": 1,
   "metadata": {},
   "outputs": [],
   "source": [
    "import pandas as pd"
   ]
  },
  {
   "cell_type": "code",
   "execution_count": 4,
   "metadata": {},
   "outputs": [],
   "source": [
    "banks = [\"1. ออมสิน\", \"2. ธกส\", \"3. ธอส\", \"4. EXIM\", \"5. SME\", \"6. อิสลาม\"]\n",
    "for bank in banks:\n",
    "    bank_df = pd.read_excel(\"bank-branch.xlsx\", sheet_name=bank, usecols=\"D\")\n",
    "    addrs = {}\n",
    "    for i, directory in bank_df.itertuples():\n",
    "        try:\n",
    "            address = directory.split(\"<br/>\")[0].split()\n",
    "            address.reverse()\n",
    "            addrs[i] = [address[0], address[1], address[2]]\n",
    "        except:\n",
    "            continue\n",
    "    bank_locations = pd.DataFrame.from_dict(addrs, orient=\"index\")\n",
    "    bank_locations.to_csv(f\"{bank}.txt\", sep=\"|\")"
   ]
  }
 ],
 "metadata": {
  "kernelspec": {
   "display_name": "Python 3",
   "language": "python",
   "name": "python3"
  },
  "language_info": {
   "codemirror_mode": {
    "name": "ipython",
    "version": 3
   },
   "file_extension": ".py",
   "mimetype": "text/x-python",
   "name": "python",
   "nbconvert_exporter": "python",
   "pygments_lexer": "ipython3",
   "version": "3.8.10"
  },
  "orig_nbformat": 4
 },
 "nbformat": 4,
 "nbformat_minor": 2
}
